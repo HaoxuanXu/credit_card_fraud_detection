{
 "cells": [
  {
   "cell_type": "code",
   "execution_count": 32,
   "metadata": {},
   "outputs": [],
   "source": [
    "import numpy as np\n",
    "import pandas as pd\n",
    "from sklearn.preprocessing import MinMaxScaler\n",
    "from sklearn.ensemble import RandomForestClassifier\n",
    "from sklearn.metrics import accuracy_score\n",
    "from sklearn.metrics import precision_score\n",
    "from sklearn.metrics import recall_score\n",
    "import matplotlib.pyplot as plt\n",
    "import seaborn as sns\n",
    "import time\n",
    "import warnings\n",
    "\n",
    "%matplotlib inline\n",
    "warnings.filterwarnings(\"ignore\")"
   ]
  },
  {
   "cell_type": "code",
   "execution_count": 2,
   "metadata": {},
   "outputs": [],
   "source": [
    "credit_info = pd.read_csv(\"creditcard.csv\")"
   ]
  },
  {
   "cell_type": "code",
   "execution_count": 15,
   "metadata": {},
   "outputs": [],
   "source": [
    "# Shuffle data\n",
    "credit_info_shuffled = credit_info.sample(frac=1)\n",
    "# one-hot encode the target variable\n",
    "#credit_info_encoded = pd.get_dummies(credit_info_shuffled, columns=[\"Class\"])\n",
    "\n",
    "# Splitting the data into train and test\n",
    "training_size = int(0.8 * len(credit_info_shuffled))\n",
    "Training_set = credit_info_shuffled.iloc[:training_size, :]\n",
    "Test_set = credit_info_shuffled.iloc[training_size:, :]\n",
    "# Separate out the input variables and the target variables\n",
    "X_train = Training_set.iloc[:, :-1]\n",
    "y_train = Training_set.iloc[:, -1:]\n",
    "X_test = Test_set.iloc[:, :-1]\n",
    "y_test = Test_set.iloc[:, -1:]\n",
    "# min-max normalize the data using MinMaxScaler\n",
    "normalizer = MinMaxScaler()\n",
    "X_train_scaled = normalizer.fit_transform(X_train)\n",
    "X_test_scaled = normalizer.transform(X_test)\n",
    "# Adding weighting to the fraud class to tackle the imbalanced data problem\n",
    "#fraud_ratio = credit_info[\"Class\"].value_counts()[1] / len(credit_info)\n",
    "#fraud_weighting = 1 / fraud_ratio\n",
    "#y_train.iloc[:, 0] = y_train.iloc[:, 0] * fraud_weighting * 1.5"
   ]
  },
  {
   "cell_type": "code",
   "execution_count": 16,
   "metadata": {},
   "outputs": [],
   "source": [
    "X_train_scaled = pd.DataFrame(X_train_scaled, columns=X_train.columns)\n",
    "X_test_scaled = pd.DataFrame(X_test_scaled, columns = X_test.columns)"
   ]
  },
  {
   "cell_type": "code",
   "execution_count": 21,
   "metadata": {},
   "outputs": [
    {
     "data": {
      "text/plain": [
       "0    0.998231\n",
       "1    0.001769\n",
       "Name: Class, dtype: float64"
      ]
     },
     "execution_count": 21,
     "metadata": {},
     "output_type": "execute_result"
    }
   ],
   "source": [
    "y_train.iloc[:,0].value_counts()/y_train.shape[0]"
   ]
  },
  {
   "cell_type": "code",
   "execution_count": 23,
   "metadata": {},
   "outputs": [
    {
     "data": {
      "text/plain": [
       "0    0.998438\n",
       "1    0.001562\n",
       "Name: Class, dtype: float64"
      ]
     },
     "execution_count": 23,
     "metadata": {},
     "output_type": "execute_result"
    }
   ],
   "source": [
    "y_test.iloc[:,0].value_counts()/y_test.shape[0]"
   ]
  },
  {
   "cell_type": "code",
   "execution_count": 19,
   "metadata": {},
   "outputs": [
    {
     "data": {
      "image/png": "[encoded data removed]",
      "text/plain": [
       "<Figure size 864x720 with 2 Axes>"
      ]
     },
     "metadata": {
      "needs_background": "light"
     },
     "output_type": "display_data"
    }
   ],
   "source": [
    "plt.subplots(figsize=(12,10))\n",
    "cmap = sns.diverging_palette(240, 10, as_cmap=True)\n",
    "sns.heatmap(X_train_scaled.join(y_train).corr(), cmap = cmap)\n",
    "plt.show()"
   ]
  },
  {
   "cell_type": "markdown",
   "metadata": {},
   "source": [
    "Some of the variables are weakly correlated with each other, but none are strongly correlated with the target variables"
   ]
  },
  {
   "cell_type": "code",
   "execution_count": 24,
   "metadata": {},
   "outputs": [
    {
     "data": {
      "text/plain": [
       "RandomForestClassifier(bootstrap=True, ccp_alpha=0.0, class_weight=None,\n",
       "                       criterion='gini', max_depth=None, max_features='auto',\n",
       "                       max_leaf_nodes=None, max_samples=None,\n",
       "                       min_impurity_decrease=0.0, min_impurity_split=None,\n",
       "                       min_samples_leaf=1, min_samples_split=2,\n",
       "                       min_weight_fraction_leaf=0.0, n_estimators=100,\n",
       "                       n_jobs=-1, oob_score=False, random_state=None, verbose=0,\n",
       "                       warm_start=False)"
      ]
     },
     "execution_count": 24,
     "metadata": {},
     "output_type": "execute_result"
    }
   ],
   "source": [
    "# Let's use random forest to get some ideas about feature importance\n",
    "rf = RandomForestClassifier(n_jobs=-1)\n",
    "rf.fit(X_train_scaled, y_train)"
   ]
  },
  {
   "cell_type": "code",
   "execution_count": 29,
   "metadata": {},
   "outputs": [
    {
     "data": {
      "text/plain": [
       "V17       0.171231\n",
       "V12       0.141023\n",
       "V14       0.112843\n",
       "V10       0.096971\n",
       "V16       0.072535\n",
       "V11       0.055873\n",
       "V18       0.033690\n",
       "V4        0.031472\n",
       "V7        0.025641\n",
       "V9        0.023434\n",
       "V26       0.020542\n",
       "V3        0.017822\n",
       "V6        0.016349\n",
       "V21       0.015562\n",
       "V20       0.013019\n",
       "V1        0.012738\n",
       "V19       0.011680\n",
       "Time      0.011469\n",
       "V22       0.011182\n",
       "Amount    0.011071\n",
       "V2        0.010938\n",
       "V27       0.010511\n",
       "V8        0.010496\n",
       "V15       0.010492\n",
       "V28       0.009671\n",
       "V13       0.009536\n",
       "V24       0.009424\n",
       "V5        0.007679\n",
       "V23       0.007649\n",
       "V25       0.007456\n",
       "dtype: float64"
      ]
     },
     "execution_count": 29,
     "metadata": {},
     "output_type": "execute_result"
    }
   ],
   "source": [
    "pd.Series(rf.feature_importances_, index=X_train_scaled.columns).sort_values(ascending=False)"
   ]
  },
  {
   "cell_type": "markdown",
   "metadata": {},
   "source": [
    "V17, V12, V14, V10, V16 and V11 appear to be more useful in predicting the target values\n"
   ]
  },
  {
   "cell_type": "code",
   "execution_count": 33,
   "metadata": {},
   "outputs": [],
   "source": [
    "y_pred = rf.predict(X_test_scaled)"
   ]
  },
  {
   "cell_type": "code",
   "execution_count": 34,
   "metadata": {},
   "outputs": [
    {
     "data": {
      "text/plain": [
       "0.9995084442259752"
      ]
     },
     "execution_count": 34,
     "metadata": {},
     "output_type": "execute_result"
    }
   ],
   "source": [
    "accuracy_score(y_test, y_pred)"
   ]
  },
  {
   "cell_type": "code",
   "execution_count": null,
   "metadata": {},
   "outputs": [],
   "source": [
    "precision_score(y)"
   ]
  }
 ],
 "metadata": {
  "kernelspec": {
   "display_name": "Python 3",
   "language": "python",
   "name": "python3"
  },
  "language_info": {
   "codemirror_mode": {
    "name": "ipython",
    "version": 3
   },
   "file_extension": ".py",
   "mimetype": "text/x-python",
   "name": "python",
   "nbconvert_exporter": "python",
   "pygments_lexer": "ipython3",
   "version": "3.7.5"
  }
 },
 "nbformat": 4,
 "nbformat_minor": 4
}
